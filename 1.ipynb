{
 "cells": [
  {
   "cell_type": "code",
   "execution_count": null,
   "metadata": {},
   "outputs": [],
   "source": [
    "i = 1\n",
    "j = 1\n",
    "for i in range(1,10):\n",
    "    for j in range(1,10):\n",
    "        print(i*j, end=\" \")\n",
    "    print() \n",
    " "
   ]
  },
  {
   "cell_type": "code",
   "execution_count": null,
   "metadata": {},
   "outputs": [],
   "source": [
    "n = int(input(\"自然数を入力:\"))\n",
    "while n > 0:\n",
    "    i = 1\n",
    "    for i in range(n):\n",
    "        print(\"*\" ,end=\" \")\n",
    "    print()\n",
    "    n -= 1"
   ]
  },
  {
   "cell_type": "code",
   "execution_count": null,
   "metadata": {},
   "outputs": [],
   "source": [
    "n = int(input(\"自然数を入力:\"))\n",
    "for i in range(n+1):\n",
    "    j = 0\n",
    "    for j in range(n-i):\n",
    "        print(\" \", end=\" \")\n",
    "    for j in range(2 * i + 1):\n",
    "        print(\"*\", end=\" \")\n",
    "    for j in range(n-1):\n",
    "        print(\" \", end=\" \")\n",
    "    print()\n",
    "    i += 1\n",
    "i = 1\n",
    "for i in range(n):\n",
    "    j = 1\n",
    "    for j in range(n):\n",
    "        print(\" \", end=\" \")\n",
    "    print(\"*\", end=\" \")\n",
    "    print()\n",
    "    i += 1"
   ]
  }
 ],
 "metadata": {
  "kernelspec": {
   "display_name": "Python 3",
   "language": "python",
   "name": "python3"
  },
  "language_info": {
   "codemirror_mode": {
    "name": "ipython",
    "version": 3
   },
   "file_extension": ".py",
   "mimetype": "text/x-python",
   "name": "python",
   "nbconvert_exporter": "python",
   "pygments_lexer": "ipython3",
   "version": "3.7.3"
  }
 },
 "nbformat": 4,
 "nbformat_minor": 2
}
