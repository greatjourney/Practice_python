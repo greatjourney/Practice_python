{
 "cells": [
  {
   "cell_type": "markdown",
   "metadata": {},
   "source": [
    "# 第2回課題"
   ]
  },
  {
   "cell_type": "markdown",
   "metadata": {},
   "source": [
    "## 課題1\n",
    "(i) 円が長方形のなかに完全に収まっていて交わりがない (ii) 外側の遠くにあっ て交わりがない，(iii)-(vi) 長方形の上下左右の各辺で交わる。の６パターンを再現するように関数に具体的な値を渡し、テストした。全てのパターンはこの６パターンに分類できるので適切なテストケースだと考えられる。テストの結果、in_rectangle()は適切な関数だとわかった。"
   ]
  },
  {
   "cell_type": "code",
   "execution_count": 1,
   "metadata": {},
   "outputs": [
    {
     "name": "stderr",
     "output_type": "stream",
     "text": [
      ".\n",
      "----------------------------------------------------------------------\n",
      "Ran 1 test in 0.003s\n",
      "\n",
      "OK\n"
     ]
    }
   ],
   "source": [
    "def in_rectangle(w,h,x,y,r):\n",
    "    if (x >= r) and (y >= r) and (w-x >= r) and (h-y >= r):\n",
    "        return True\n",
    "    else:\n",
    "        return False\n",
    "\n",
    "in_rectangle(100,100,1,1,0.5)   \n",
    "\n",
    "\n",
    "import unittest\n",
    "\n",
    "class TestArea(unittest.TestCase): # 定型句\n",
    "    def test_area(self): # 名前を\"test \"で始める \n",
    "        self.assertEqual(in_rectangle(100,100,1,1,0.5),True) \n",
    "        self.assertFalse(in_rectangle(1,1,100,100,0.5),True) \n",
    "        self.assertFalse(in_rectangle(10,10,5,9,3),True) \n",
    "        self.assertFalse(in_rectangle(10,10,9,5,3),True) \n",
    "        self.assertFalse(in_rectangle(10,10,5,1,3),True) \n",
    "        self.assertFalse(in_rectangle(10,10,1,5,3),True) \n",
    "\n",
    "if __name__ == '__main__':\n",
    "    unittest.main(argv=['first-arg-is-ignored'], exit=False)"
   ]
  },
  {
   "cell_type": "markdown",
   "metadata": {},
   "source": [
    "## 課題2\n",
    "aの要素をa[0]から順番に全て足し合わせていく際に、同時に最大値最小値を求めてmax,minにそれぞれ格納した。\n",
    "最後に合計値sumからmaxとminを引けばオリンピック方式で合計点を求められる。"
   ]
  },
  {
   "cell_type": "code",
   "execution_count": 5,
   "metadata": {},
   "outputs": [],
   "source": [
    "def score(a):\n",
    "    max = min = a[0]\n",
    "    sum = 0\n",
    "    for i in range(len(a)):\n",
    "        if a[i] > max:\n",
    "            max = a[i]\n",
    "        elif a[i] < min:\n",
    "            min = a[i]\n",
    "        sum += a[i]\n",
    "        #この時点でmax,minはa[0]~a[i]までのそれぞれ最大値、最小値でsumはa[0]~a[i]の合計値\n",
    "    return sum - (max + min)\n",
    "\n"
   ]
  },
  {
   "cell_type": "markdown",
   "metadata": {},
   "source": [
    "## 課題3\n",
    "対数を用いてまずnの桁数dを求める。そして最高位の桁から、b = nを10 ** (d-i-1)で割った商を取って各桁の数字を求め、足し合わせていく。\n",
    "ループでb -= a * (10 ** (d-i-1))としているのは桁を一つ落として、a = b // 10 ** (d-i-1)で次の桁の数字が求まるようにするためである。"
   ]
  },
  {
   "cell_type": "code",
   "execution_count": 6,
   "metadata": {},
   "outputs": [],
   "source": [
    "import math\n",
    "\n",
    "def digit_sum(n):\n",
    "    d = math.floor(math.log10(n))+1\n",
    "    sum = 0\n",
    "    b = n\n",
    "    for i in range(d):\n",
    "        a = b // 10 ** (d-i-1)\n",
    "        sum += a\n",
    "        b -= a * (10 ** (d-i-1))\n",
    "        #この時点においてaはnのd-i桁目(左から1,2,...)の数字。sumはd桁目からd-i桁目までの数字の合計。bはnのd-i桁目から1桁目までの数字を左から並べた整数\n",
    "    return sum\n",
    "\n",
    "    "
   ]
  },
  {
   "cell_type": "markdown",
   "metadata": {},
   "source": [
    "## 課題4\n",
    "1 ~ nまでの自然数それぞれについてn を割った余りを求め、0なら約数の配列に加えていく。"
   ]
  },
  {
   "cell_type": "code",
   "execution_count": 7,
   "metadata": {},
   "outputs": [],
   "source": [
    "def factor(n):\n",
    "    a = []\n",
    "    for i in range(1,n+1):\n",
    "        if n % i == 0:\n",
    "            a.append(i)\n",
    "    #この時点でaには1~iまでのaの約数が格納されている。\n",
    "    return a"
   ]
  },
  {
   "cell_type": "markdown",
   "metadata": {},
   "source": [
    "## 課題5\n",
    "空の文字列a,bを用意する。s[0],s[1]はaの要素、s[2],s[3]はbの要素、s[4],s[5]はaの要素... というようになるからiを4で割った余りによってs[i]をa,bどちらに加えるか判断する。余りが0,1ならa、それ以外ならbに加えていけば良い。"
   ]
  },
  {
   "cell_type": "code",
   "execution_count": 8,
   "metadata": {},
   "outputs": [],
   "source": [
    "def decrypt2(s):\n",
    "    a = \"\"\n",
    "    b = \"\"\n",
    "    for i in range(len(s)):\n",
    "        if i % 4 == 0 or i % 4 == 1:\n",
    "            a += s[i]\n",
    "        else:\n",
    "            b += s[i]\n",
    "    #この時点でa,bにはs[0]~s[i]までの然るべき要素を含む文字列となっている。\n",
    "    return [a,b]"
   ]
  },
  {
   "cell_type": "markdown",
   "metadata": {},
   "source": [
    " ## 課題6\n",
    " 空の文字列aを用意する。xからx[i]を取り除くべきか判断する際には、文字列\"x[i-1]x[i]\"または\"x[i]x[i+1]\"を確認すれば良い。いずれも\"ta\"ではないのなら取り除かない。どちらかが\"ta\"ならx[i]は取り除かれる。そうして全ての要素を確認して取り除かれない要素のみをaに加えていけばaが求める文字列となる。"
   ]
  },
  {
   "cell_type": "code",
   "execution_count": 9,
   "metadata": {},
   "outputs": [],
   "source": [
    "def erase_ta(x):\n",
    "    a = \"\"\n",
    "    for i in range(len(x)):\n",
    "        if x[i:i+2] != \"ta\" and x[i-1:i+1] != \"ta\":\n",
    "            a += x[i]\n",
    "    #この時点でaは\"ta\"を取り除く操作によって取り除かれなかったx[0]~x[i]までの要素が含まれている。\n",
    "    return a\n"
   ]
  },
  {
   "cell_type": "markdown",
   "metadata": {},
   "source": [
    "## 課題7\n",
    "f(x)の次元が2,3次元と低いとシンプソン公式による近似がもっとも精度が良かった。台形近似についてもn=1000の時にかなり近い値を得られた。f(x)の次元が4,5と高くなると今度は台形近似の方が精度が高くなった。特にf(x) = x^5の時シンプソン公式による近似値と実際の値は約15%程度異なり、かなり精度が低い。シンプソン公式による近似は次元が低いと高い効果を発揮するが（特に2次式の場合は計算誤差を無視すれば正確な値が得られる。)次元が高くなるとかなり精度が低くなるため近似の手段には適さない。具体的には3または4次式以上の次元の式には適さないと以下の結果から考えられる。\n",
    "一方で台形公式は、分割数nを十分大きくすればかなり精度の高い値を高次元でも得られることがわかった。n = 10だと流石に不十分であり、精度は低いが、n = 1000ならば6次式の近似においても整数部分が一致し、高い精度が確認できた。精度をあげようとして徒にnを高くしても精度はほとんど変わらず、計算時間がただ長くなってしまうため、次元と求める精度に適したnを選ぶことが重要である。"
   ]
  },
  {
   "cell_type": "code",
   "execution_count": 48,
   "metadata": {},
   "outputs": [
    {
     "name": "stdout",
     "output_type": "stream",
     "text": [
      "117649.00411771484\n",
      "2901.333333333333\n",
      "117649\n"
     ]
    }
   ],
   "source": [
    "def f(x):\n",
    "    return x **6\n",
    "\n",
    "def F(x):\n",
    "    return (x**7) /7\n",
    "\n",
    "def integral1(f, a, b, n = 1000):\n",
    "    h = (b - a) / n\n",
    "    answer = 0\n",
    "    for i in range(n):\n",
    "        p = a + i * h\n",
    "        q = a + (i +1)*h\n",
    "        answer +=  (f(p) + f(q))\n",
    "    return (h/2) * answer\n",
    "\n",
    "def integral2(f, a, b):\n",
    "    return ((b-a)/6) * (f(a) + 4 * f((a + b)/2) + f(b))\n",
    "\n",
    "print( integral1(f, 0, 7,10000))\n",
    "print( integral2(f, 0, 4))\n",
    "print(7**6)\n",
    "\n",
    "# f(x) = x^2 F(3) = 9\n",
    "# integral1(f, 0, 3,1000) = 9.000004500000003\n",
    "# integral1(f, 0, 3,100) = 9.000449999999999\n",
    "# integral1(f, 0, 3,10)  =  9.045\n",
    "# integral2(f, 0, 3) = 9.0\n",
    "\n",
    "# f(x) = x^3 F(4) = 64\n",
    "# integral1(f, 0, 4,1000) = 64.00006399999997\n",
    "# integral1(f, 0, 4,100) = 64.00640000000001\n",
    "# integral1(f, 0, 4,10) =  64.64000000000001\n",
    "# integral2(f, 0, 4) = 64.0\n",
    "\n",
    "#  f(x) = x^4  F(5) = 625\n",
    "# integral1(f, 0, 5,1000) = 625.0010416665626\n",
    "# integral1(f, 0, 5,100) = 625.1041656250002\n",
    "# integral1(f, 0, 5,10) = 635.40625\n",
    "# integral2(f, 0, 5) =651.0416666666667\n",
    "\n",
    "# f(x) =  x^5 F(6) =  7776\n",
    "\n",
    "# integral1(f, 0, 6,1000)= 7776.019439996106\n",
    "#  integral1(f, 0, 6,100) = 7777.94396112\n",
    "#  integral1(f, 0, 6,10) =　7970.011199999999\n",
    "#  integral2(f, 0, 6) = 8748.0\n",
    "\n",
    "#f(x) = x^6 F(7) = 117649\n",
    "#integral1(f, 0, 7,10000) = 117649.00411771484\n",
    "#integral1(f, 0, 7,1000) = 117649.41177136282"
   ]
  },
  {
   "cell_type": "markdown",
   "metadata": {},
   "source": [
    "## 課題8"
   ]
  },
  {
   "cell_type": "markdown",
   "metadata": {},
   "source": [
    "## テストコード"
   ]
  },
  {
   "cell_type": "code",
   "execution_count": 11,
   "metadata": {},
   "outputs": [
    {
     "name": "stderr",
     "output_type": "stream",
     "text": [
      ".....\n",
      "----------------------------------------------------------------------\n",
      "Ran 5 tests in 0.005s\n",
      "\n",
      "OK\n"
     ]
    }
   ],
   "source": [
    "import unittest\n",
    "\n",
    "class TestKadai(unittest.TestCase):\n",
    "    \n",
    "    def test_kadai1(self):\n",
    "        self.assertEqual(39, score([1,1,10,4,19,5,20]))\n",
    "        \n",
    "    def test_kadai2(self):\n",
    "        self.assertEqual(45, digit_sum(123456789))\n",
    "    \n",
    "    def test_kadai3(self):\n",
    "        self.assertEqual([1, 2, 3, 4, 6, 12], factor(12))\n",
    "    \n",
    "    def test_kadai4(self):\n",
    "        self.assertEqual(['tanuki', 'kitune'], decrypt2(\"takinutukine\"))\n",
    "    \n",
    "    def test_kadai5(self):\n",
    "        self.assertEqual('toukyouto', erase_ta(\"tatotauktayotauttao\"))\n",
    "    \n",
    "#     def test_kadai6(self):\n",
    "#         self.assertEqual(3, kadai2(1,2))\n",
    "\n",
    "if __name__ == '__main__':\n",
    "    unittest.main(argv=['first-arg-is-ignored'], exit=False)"
   ]
  },
  {
   "cell_type": "code",
   "execution_count": null,
   "metadata": {},
   "outputs": [],
   "source": []
  }
 ],
 "metadata": {
  "kernelspec": {
   "display_name": "Python 3",
   "language": "python",
   "name": "python3"
  },
  "language_info": {
   "codemirror_mode": {
    "name": "ipython",
    "version": 3
   },
   "file_extension": ".py",
   "mimetype": "text/x-python",
   "name": "python",
   "nbconvert_exporter": "python",
   "pygments_lexer": "ipython3",
   "version": "3.7.3"
  }
 },
 "nbformat": 4,
 "nbformat_minor": 2
}
