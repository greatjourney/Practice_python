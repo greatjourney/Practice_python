{
 "cells": [
  {
   "cell_type": "code",
   "execution_count": 1,
   "metadata": {},
   "outputs": [
    {
     "name": "stdout",
     "output_type": "stream",
     "text": [
      "-1.38671875\n"
     ]
    }
   ],
   "source": [
    "import math\n",
    "Epsilon = 0.0001\n",
    "\n",
    "def sigmoid(x):\n",
    "    return 1 / ( 1 + math.exp(-x))\n",
    "\n",
    "def sigmoid_inverse(y,a,b):\n",
    "    m = (a + b) /2\n",
    "    if abs(sigmoid(m) - y) < Epsilon:\n",
    "        return m\n",
    "    elif abs(sigmoid(m)) > y:\n",
    "        return sigmoid_inverse(y,a,m)\n",
    "    else:\n",
    "        return sigmoid_inverse(y,m,b)\n",
    "    \n",
    "    \n",
    "print(sigmoid_inverse(0.2, -10, 10))"
   ]
  },
  {
   "cell_type": "code",
   "execution_count": 1,
   "metadata": {},
   "outputs": [
    {
     "name": "stdout",
     "output_type": "stream",
     "text": [
      "17\n"
     ]
    }
   ],
   "source": [
    "class Node:\n",
    "    def __init__(self, num, left, right):\n",
    "        self.value = num\n",
    "        (self.left , self.right) = (left, right)\n",
    "\n",
    "\n",
    "def make_node(num, left, right): \n",
    "    return Node(num, left, right) \n",
    "\n",
    "def value(tree):\n",
    "    return tree.value\n",
    "\n",
    "def left(tree):\n",
    "    return tree.left\n",
    "    \n",
    "def right(tree):\n",
    "    return tree.right\n",
    "\n",
    "EmptyTree = None\n",
    "def is_empty(tree):\n",
    "    return tree == EmptyTree\n",
    "\n",
    "def make_leaf(num):\n",
    "    return make_node(num, EmptyTree, EmptyTree)\n",
    "\n",
    "def is_leaf(tree):\n",
    "    return left(tree) == EmptyTree and right(tree) == EmptyTree\n",
    "\n",
    "def calc1(tree):\n",
    "    v = value(tree)\n",
    "    l = value(left(tree))\n",
    "    r = value(right(tree))\n",
    "    if v == '+':\n",
    "        return l + r\n",
    "    elif v == '-':\n",
    "        return l - r\n",
    "    elif v == '*':\n",
    "        return l * r\n",
    "    elif v == '/':\n",
    "        return l / r\n",
    "    else:\n",
    "        return v\n",
    "\n",
    "def calc(tree):\n",
    "    if is_empty(tree):\n",
    "        return 0\n",
    "    elif is_leaf(tree):\n",
    "        return value(tree)\n",
    "    elif is_leaf(left(tree)) and is_leaf(right(tree)):\n",
    "        return calc1(tree)\n",
    "    else:\n",
    "        l = calc(left(tree))\n",
    "        r = calc(right(tree))\n",
    "        tree = make_node(value(tree),make_leaf(l),make_leaf(r))\n",
    "        return calc(tree)\n",
    "\n",
    "t = make_node(\"+\", make_node(\"*\", make_leaf(3), make_leaf(5)), make_leaf(2))\n",
    "print(calc(t))"
   ]
  },
  {
   "cell_type": "code",
   "execution_count": 9,
   "metadata": {},
   "outputs": [
    {
     "data": {
      "text/plain": [
       "3"
      ]
     },
     "execution_count": 9,
     "metadata": {},
     "output_type": "execute_result"
    }
   ],
   "source": [
    "def binary_search(a, x, l, r):\n",
    "    m = (l +r) //2\n",
    "    if (l +1 == r) and (a[l] == x):\n",
    "        return l\n",
    "    elif (l +1 == r) and (a[l] != x):\n",
    "        return -1\n",
    "    elif (l+1 < r) and (a[m] > x):\n",
    "        return binary_search(a, x, l,m)\n",
    "    else:\n",
    "        return binary_search(a, x, m,r)\n",
    "    \n",
    "    \n",
    "a=[1,3,5,7]\n",
    "# print(binary_search(a, 1, 0, len(a)))\n",
    "# binary_search(a, 3, 0, len(a))\n",
    "# binary_search(a, 5, 0, len(a))\n",
    "# binary_search(a, 7, 0, len(a)) \n",
    "# binary_search(a, 2, 0, len(a)) "
   ]
  },
  {
   "cell_type": "code",
   "execution_count": 16,
   "metadata": {},
   "outputs": [
    {
     "name": "stdout",
     "output_type": "stream",
     "text": [
      "[[0, 0], [11.111111111111112, 0.0], [16.666666666666668, 9.622504486493762], [22.222222222222225, 0.0], [33.333333333333336, 0.0], [38.88888888888889, 9.622504486493762], [33.33333333333334, 19.245008972987524], [44.44444444444444, 19.245008972987524], [50.0, 28.867513459481287], [55.55555555555556, 19.245008972987527], [66.66666666666667, 19.245008972987527], [61.111111111111114, 9.622504486493764], [66.66666666666667, 0.0], [77.77777777777779, 0.0], [83.33333333333334, 9.622504486493762], [88.88888888888889, 0.0]]\n"
     ]
    },
    {
     "data": {
      "image/png": "[encoded data removed]",
      "text/plain": [
       "<Figure size 432x288 with 1 Axes>"
      ]
     },
     "metadata": {
      "needs_background": "light"
     },
     "output_type": "display_data"
    }
   ],
   "source": [
    "def koch(x0,y0,x1,y1,n):\n",
    "    import math\n",
    "    if n==0:\n",
    "        return [[x0,y0]]\n",
    "    else:\n",
    "        dx = x1 - x0\n",
    "        dy = y1 - y0\n",
    "        r3 = math.sqrt(3)\n",
    "        xa = x0 + dx / 3\n",
    "        ya = y0 + dy /3\n",
    "        xb = (x0 + dx / 2) - (dy * r3) / 6\n",
    "        yb = (y0 + dy / 2) + (dx * r3) / 6\n",
    "        xc = x0 + (2 * dx) / 3\n",
    "        yc = y0 + (2 * dy) /3\n",
    "        \n",
    "        return koch(x0,y0,xa,ya, n-1 ) + koch(xa, ya,  xb , yb, n-1) + koch( xb, yb,xc,yc, n-1) + koch(xc,yc,x1,y1 ,n -1) \n",
    "        \n",
    "%matplotlib inline\n",
    "def plot_koch(a):\n",
    "    import matplotlib.pyplot as plt\n",
    "    import numpy as np\n",
    "    fig = plt.figure()\n",
    "    ax = fig.add_subplot(1,1,1)\n",
    "    a_ = np.array(a)\n",
    "    xlist = a_[:, 0]\n",
    "    ylist = a_[:, 1]\n",
    "    \n",
    "    ax.plot(xlist, ylist)\n",
    "    ax.set_title('koch_curve')\n",
    "\n",
    "a = koch(0,0,100,0,2)\n",
    "plot_koch(a)\n",
    "print(a)"
   ]
  },
  {
   "cell_type": "code",
   "execution_count": null,
   "metadata": {},
   "outputs": [],
   "source": [
    "def merge(a, b):\n",
    "    c=[]\n",
    "    i,j = 0,0\n",
    "    while i<len(a) and j<len(b):\n",
    "        if a[i] < b[j]: \n",
    "            c.append(a[i])\n",
    "            i+=1 \n",
    "        else:\n",
    "            c.append(b[j])\n",
    "            j+=1\n",
    "    # ループ不変条件: a[0:i]とb[0:j]は昇順にcに詰まっている a[i:] # a[i] 以降の a の要素を全て c に詰める\n",
    "    c += a[i:]\n",
    "    c += b[j:] \n",
    "    return c\n",
    "\n",
    "def first_half(a):\n",
    "    b = []\n",
    "    l = len(a)\n",
    "    p = l // 2\n",
    "    if l % 2 == 0:\n",
    "        for i in range(p):\n",
    "            b.append(a[i])\n",
    "    else:\n",
    "        for i in range(p + 1):\n",
    "            b.append(a[i])\n",
    "    return b\n",
    "\n",
    "def second_half(a):\n",
    "    b = []\n",
    "    l = len(a)\n",
    "    p = l // 2\n",
    "    if l % 2 == 0:\n",
    "        for i in range(p,l):\n",
    "            b.append(a[i])\n",
    "    else:\n",
    "        for i in range(p + 1,l):\n",
    "            b.append(a[i])\n",
    "    return b\n",
    "\n",
    "def mergesort(a):\n",
    "    if len(a) <= 1:\n",
    "        return a\n",
    "    \n",
    "    first = mergesort(first_half(a))\n",
    "    second = mergesort(second_half(a))\n",
    "\n",
    "    return merge(first, second)"
   ]
  }
 ],
 "metadata": {
  "kernelspec": {
   "display_name": "Python 3",
   "language": "python",
   "name": "python3"
  },
  "language_info": {
   "codemirror_mode": {
    "name": "ipython",
    "version": 3
   },
   "file_extension": ".py",
   "mimetype": "text/x-python",
   "name": "python",
   "nbconvert_exporter": "python",
   "pygments_lexer": "ipython3",
   "version": "3.7.3"
  }
 },
 "nbformat": 4,
 "nbformat_minor": 2
}
