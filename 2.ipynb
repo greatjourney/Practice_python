{
 "cells": [
  {
   "cell_type": "code",
   "execution_count": null,
   "metadata": {},
   "outputs": [],
   "source": [
    "def in_rectangle(w,h,x,y,r):\n",
    "    if (x >= r) and (y >= r) and (w-x >= r) and (h-y >= r):\n",
    "        return True\n",
    "    else:\n",
    "        return False\n",
    "\n",
    "in_rectangle(100,100,1,1,0.5)   \n"
   ]
  },
  {
   "cell_type": "code",
   "execution_count": 1,
   "metadata": {},
   "outputs": [],
   "source": [
    "def watch(s):\n",
    "    hh = s // 3600\n",
    "    mm = (s - 3600 * hh) // 60\n",
    "    ss = s %60\n",
    "    cout \n",
    "watch(46979)"
   ]
  },
  {
   "cell_type": "code",
   "execution_count": null,
   "metadata": {},
   "outputs": [],
   "source": [
    "def abbreviate(word):\n",
    "    return word[0] + str(len(word) - 2) + word[len(word) -1]\n",
    "abbreviate(\"internationalization\")"
   ]
  },
  {
   "cell_type": "code",
   "execution_count": null,
   "metadata": {},
   "outputs": [],
   "source": [
    "def issueIC(ic,b):\n",
    "    if ic >= b:\n",
    "        return True\n",
    "    else:\n",
    "        return False\n",
    "    \n",
    "def issueCC(dt,dl,ic):\n",
    "    p = dt / ic\n",
    "    if p >= 0.28:\n",
    "        return False\n",
    "    elif p >= 0.20:\n",
    "        if dl >= 1:\n",
    "            return False\n",
    "        else:\n",
    "            issueIC(ic, 3.0e6)\n",
    "    else:\n",
    "        if dl >= 2:\n",
    "            return False\n",
    "        elif dl == 1:\n",
    "            issueIC(ic, 5.0e6)\n",
    "        else:\n",
    "            issueIC(ic, 3.0e6)\n",
    "            \n",
    "if issueCC(10, 1, 100):\n",
    "    print(\"OK\")\n",
    "else:\n",
    "    print(\"No\")\n"
   ]
  },
  {
   "cell_type": "code",
   "execution_count": null,
   "metadata": {},
   "outputs": [],
   "source": [
    "def calculator(a,op,b):\n",
    "    if op == \"+\":\n",
    "        return a + b\n",
    "    elif op == \"-\":\n",
    "        return a - b\n",
    "    elif op == \"*\":\n",
    "        return a *b\n",
    "    elif op == \"/\":\n",
    "        return a /b\n",
    "    else:\n",
    "        return False\n",
    "\n",
    "calculator(calculator(3,\"*\",10),\"+\",7)    \n",
    "    "
   ]
  },
  {
   "cell_type": "code",
   "execution_count": null,
   "metadata": {},
   "outputs": [],
   "source": []
  }
 ],
 "metadata": {
  "kernelspec": {
   "display_name": "Python 3",
   "language": "python",
   "name": "python3"
  },
  "language_info": {
   "codemirror_mode": {
    "name": "ipython",
    "version": 3
   },
   "file_extension": ".py",
   "mimetype": "text/x-python",
   "name": "python",
   "nbconvert_exporter": "python",
   "pygments_lexer": "ipython3",
   "version": "3.7.3"
  }
 },
 "nbformat": 4,
 "nbformat_minor": 2
}
