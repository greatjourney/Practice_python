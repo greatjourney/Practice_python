{
 "cells": [
  {
   "cell_type": "markdown",
   "metadata": {},
   "source": [
    "# 第2回課題"
   ]
  },
  {
   "cell_type": "markdown",
   "metadata": {},
   "source": [
    "## 課題1\n",
    "円が長方形に含まれるには、円の中心から四辺までの距離が全て半径以下であれば良い。それをif文で書いた。x, yが負の場合は長方形に含まれないがそれにも対応している。TAの方にOKをもらった。"
   ]
  },
  {
   "cell_type": "code",
   "execution_count": 1,
   "metadata": {},
   "outputs": [
    {
     "data": {
      "text/plain": [
       "True"
      ]
     },
     "execution_count": 1,
     "metadata": {},
     "output_type": "execute_result"
    }
   ],
   "source": [
    "def in_rectangle(w,h,x,y,r):\n",
    "    if (x >= r) and (y >= r) and (w-x >= r) and (h-y >= r):\n",
    "        return True\n",
    "    else:\n",
    "        return False\n",
    "\n",
    "in_rectangle(100,100,1,1,0.5)   "
   ]
  },
  {
   "cell_type": "markdown",
   "metadata": {},
   "source": [
    "## 課題2\n",
    "まず、与えられた秒数が1日間より長い場合があるので、１日の秒数で割った余りを取る。それから、まず時間を求めるため１時間の秒数で割った商をhhに代入する。分は上で割った余りをさらに１分間の秒数で割った時の商なのでそれをmmに代入する。最後に秒数は60で割った余りなのでssに代入する。最後にそれらをstrで文字列に変換して返す。\n",
    "TAの方にOKをもらった。"
   ]
  },
  {
   "cell_type": "code",
   "execution_count": 9,
   "metadata": {},
   "outputs": [
    {
     "data": {
      "text/plain": [
       "'13:2:59'"
      ]
     },
     "execution_count": 9,
     "metadata": {},
     "output_type": "execute_result"
    }
   ],
   "source": [
    "def watch(s):\n",
    "    s = s %(60 * 60 * 24)\n",
    "    hh = s // 3600\n",
    "    mm = (s %3600) // 60\n",
    "    ss = s %60\n",
    "    return (str(hh) + \":\" + str(mm) + \":\" + str(ss))\n",
    "watch(46979)"
   ]
  },
  {
   "cell_type": "markdown",
   "metadata": {},
   "source": [
    "## 課題3\n",
    "最初の文字はword[0]で、文字数-2の数値はlen(word)で文字数を取得して求め、最後の文字も word[len(word) -1]とすれば良い。\n",
    "TAの方にOKをもらった。"
   ]
  },
  {
   "cell_type": "code",
   "execution_count": 5,
   "metadata": {},
   "outputs": [
    {
     "data": {
      "text/plain": [
       "'i18n'"
      ]
     },
     "execution_count": 5,
     "metadata": {},
     "output_type": "execute_result"
    }
   ],
   "source": [
    "def abbreviate(word):\n",
    "    return word[0] + str(len(word) - 2) + word[len(word) -1]\n",
    "abbreviate(\"internationalization\")"
   ]
  },
  {
   "cell_type": "markdown",
   "metadata": {},
   "source": [
    "## 課題4\n",
    "借金返済額/年収をpという変数に代入し、図に記載された通りの条件判定を行うようにif文\n",
    "を書いた。動作テストで動作を確認したが、正常に動作していた。\n",
    "TAの方にOKをもらった。\n"
   ]
  },
  {
   "cell_type": "code",
   "execution_count": 26,
   "metadata": {},
   "outputs": [
    {
     "ename": "SyntaxError",
     "evalue": "'return' outside function (<ipython-input-26-6b2c04429676>, line 31)",
     "output_type": "error",
     "traceback": [
      "\u001b[0;36m  File \u001b[0;32m\"<ipython-input-26-6b2c04429676>\"\u001b[0;36m, line \u001b[0;32m31\u001b[0m\n\u001b[0;31m    return (\"OK\")\u001b[0m\n\u001b[0m    ^\u001b[0m\n\u001b[0;31mSyntaxError\u001b[0m\u001b[0;31m:\u001b[0m 'return' outside function\n"
     ]
    }
   ],
   "source": [
    "def issueCC(dt,dl,ic):\n",
    "    p = dt / ic\n",
    "    if p >= 0.28:\n",
    "        return False\n",
    "    elif p >= 0.20 :\n",
    "        if dl >= 1:\n",
    "            return False\n",
    "        else:\n",
    "            if ic >= 3.0e6:\n",
    "                return True\n",
    "            else:\n",
    "                return False\n",
    "            \n",
    "    else:\n",
    "        if dl >= 2:\n",
    "            return False\n",
    "        elif dl == 1:\n",
    "            if ic >= 5.0e6:\n",
    "                return True\n",
    "            else:\n",
    "                return False\n",
    "        else:\n",
    "            if ic >= 3.0e6:\n",
    "                return True\n",
    "            else:\n",
    "                return False\n",
    "            \n",
    "if issueCC(1.0e6, 0, 4.0e6):\n",
    "    print(\"OK\")\n",
    "else:\n",
    "    print(\"No\")\n"
   ]
  },
  {
   "cell_type": "markdown",
   "metadata": {},
   "source": [
    "## 課題5\n",
    "opについて足し算、引き算、掛け算、割り算それぞれの場合についてopの記号で場合分けを行い、計算結果を返すようにした。それ以外の記号が与えられた場合はFalseを返す。結果を見ても正しく計算できていることがわかる。\n",
    "TAの方にOKをもらった。"
   ]
  },
  {
   "cell_type": "code",
   "execution_count": 10,
   "metadata": {},
   "outputs": [
    {
     "data": {
      "text/plain": [
       "37"
      ]
     },
     "execution_count": 10,
     "metadata": {},
     "output_type": "execute_result"
    }
   ],
   "source": [
    "def calculator(a,op,b):\n",
    "    if op == \"+\":\n",
    "        return a + b\n",
    "    elif op == \"-\":\n",
    "        return a - b\n",
    "    elif op == \"*\":\n",
    "        return a *b\n",
    "    elif op == \"/\":\n",
    "        return a /b\n",
    "    else:\n",
    "        return False\n",
    "\n",
    "calculator(calculator(3,\"*\",10),\"+\",7)    \n",
    "    "
   ]
  },
  {
   "cell_type": "markdown",
   "metadata": {},
   "source": [
    "## テストコード"
   ]
  },
  {
   "cell_type": "code",
   "execution_count": 3,
   "metadata": {},
   "outputs": [
    {
     "name": "stderr",
     "output_type": "stream",
     "text": [
      "..\n",
      "----------------------------------------------------------------------\n",
      "Ran 2 tests in 0.003s\n",
      "\n",
      "OK\n"
     ]
    }
   ],
   "source": [
    "import unittest\n",
    "\n",
    "class TestKadai(unittest.TestCase):\n",
    "    \n",
    "    def test_kadai1(self):\n",
    "        self.assertEqual(2, kadai1(1))\n",
    "        \n",
    "    def test_kadai2(self):\n",
    "        self.assertEqual(3, kadai2(1,2))\n",
    "\n",
    "if __name__ == '__main__':\n",
    "    unittest.main(argv=['first-arg-is-ignored'], exit=False)"
   ]
  }
 ],
 "metadata": {
  "kernelspec": {
   "display_name": "Python 3",
   "language": "python",
   "name": "python3"
  },
  "language_info": {
   "codemirror_mode": {
    "name": "ipython",
    "version": 3
   },
   "file_extension": ".py",
   "mimetype": "text/x-python",
   "name": "python",
   "nbconvert_exporter": "python",
   "pygments_lexer": "ipython3",
   "version": "3.7.3"
  }
 },
 "nbformat": 4,
 "nbformat_minor": 2
}
