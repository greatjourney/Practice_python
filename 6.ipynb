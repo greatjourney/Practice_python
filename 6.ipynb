{
 "cells": [
  {
   "cell_type": "code",
   "execution_count": 43,
   "metadata": {},
   "outputs": [
    {
     "data": {
      "text/plain": [
       "3"
      ]
     },
     "execution_count": 43,
     "metadata": {},
     "output_type": "execute_result"
    }
   ],
   "source": [
    "def make_node(num, left, right): \n",
    "    return [num, left, right]\n",
    "\n",
    "def value(tree): \n",
    "    return tree[0]\n",
    "\n",
    "def left(tree): \n",
    "    return tree[1]\n",
    "\n",
    "def right(tree):\n",
    "    return tree[2]\n",
    "\n",
    "EmptyTree = None\n",
    "def is_empty(tree):\n",
    "    return tree == EmptyTree\n",
    "\n",
    "def make_leaf(num):\n",
    "    return make_node(num, EmptyTree, EmptyTree)\n",
    "\n",
    "def is_leaf(tree):\n",
    "    return is_empty(left(tree))  and is_empty(right(tree)) \n",
    "\n",
    "def count_node(tree):\n",
    "    if is_empty(tree):\n",
    "        return 0\n",
    "    else:\n",
    "        return 1 + count_node(left(tree)) + count_node(right(tree))\n",
    "\n",
    "def sum_node(tree):\n",
    "    if is_empty(tree):\n",
    "        return 0\n",
    "    else:\n",
    "        return value(tree) + sum_node(left(tree)) +sum_node(right(tree))\n",
    "\n",
    "def max_value(tree):\n",
    "    if is_empty(tree):\n",
    "        return 0\n",
    "    elif is_leaf(tree):\n",
    "        return value(tree)\n",
    "    elif is_leaf(left(tree)) and is_empty(right(tree)):\n",
    "        return max(value(tree), value(left(tree)))\n",
    "    elif is_leaf(right(tree)) and is_empty(left(tree)):\n",
    "        return max(value(tree), value(right(tree)))\n",
    "    elif is_leaf(left(tree)) and is_leaf(right(tree)):\n",
    "        return max(value(tree), value(left(tree)), value(right(tree)))\n",
    "    else:\n",
    "        return max_value(make_node(value(tree), make_leaf(max_value(left(tree))), make_leaf(max_value(right(tree)))))\n",
    "\n",
    "t0 = make_leaf(2)\n",
    "t1 = make_node(1, make_leaf(3), make_leaf(5) )\n",
    "t2 = make_node(3, t1, t0)\n",
    "t3 = make_node(1, make_leaf(3),EmptyTree)\n",
    "max_value(t3)"
   ]
  },
  {
   "cell_type": "code",
   "execution_count": 23,
   "metadata": {},
   "outputs": [
    {
     "data": {
      "text/plain": [
       "[3, 1, 5, 3, 2]"
      ]
     },
     "execution_count": 23,
     "metadata": {},
     "output_type": "execute_result"
    }
   ],
   "source": [
    "def make_node(num, left, right): \n",
    "    return [num, left, right]\n",
    "\n",
    "def value(tree): \n",
    "    return tree[0]\n",
    "\n",
    "def left(tree): \n",
    "    return tree[1]\n",
    "\n",
    "def right(tree):\n",
    "    return tree[2]\n",
    "\n",
    "EmptyTree = None\n",
    "def is_empty(tree):\n",
    "    return tree == EmptyTree\n",
    "\n",
    "def make_leaf(num):\n",
    "    return make_node(num, EmptyTree, EmptyTree)\n",
    "\n",
    "def is_leaf(tree):\n",
    "    return left(tree) == EmptyTree and right(tree) == EmptyTree\n",
    "\n",
    "def inorder(tree):\n",
    "    if is_empty(tree):\n",
    "        return []\n",
    "    else:\n",
    "        return inorder(left(tree)) + [value(tree)] +  inorder(right(tree))\n",
    "    \n",
    "t0 = make_leaf(2)\n",
    "t1 = make_node(1, make_leaf(3), make_leaf(5) )\n",
    "t2 = make_node(3, t1, t0)\n",
    "inorder(t2)"
   ]
  },
  {
   "cell_type": "code",
   "execution_count": 28,
   "metadata": {},
   "outputs": [
    {
     "data": {
      "text/plain": [
       "[0, 1, 1, 2, 3, 5, 6, 7, 9]"
      ]
     },
     "execution_count": 28,
     "metadata": {},
     "output_type": "execute_result"
    }
   ],
   "source": [
    "def make_node(num, left, right): \n",
    "    return [num, left, right]\n",
    "\n",
    "def value(tree): \n",
    "    return tree[0]\n",
    "\n",
    "def left(tree): \n",
    "    return tree[1]\n",
    "\n",
    "def right(tree):\n",
    "    return tree[2]\n",
    "\n",
    "EmptyTree = None\n",
    "def is_empty(tree):\n",
    "    return tree == EmptyTree\n",
    "\n",
    "def make_leaf(num):\n",
    "    return make_node(num, EmptyTree, EmptyTree)\n",
    "\n",
    "def is_leaf(tree):\n",
    "    return left(tree) == EmptyTree and right(tree) == EmptyTree\n",
    "\n",
    "def inorder(tree):\n",
    "    if is_empty(tree):\n",
    "        return []\n",
    "    else:\n",
    "        return inorder(left(tree)) + [value(tree)] +  inorder(right(tree))\n",
    "    \n",
    "def add_node(tree, x):\n",
    "    if is_empty(tree):\n",
    "        return make_leaf(x)\n",
    "    elif x < value(tree):\n",
    "        return make_node(value(tree), add_node(left(tree),x), right(tree))\n",
    "    else:\n",
    "        return make_node(value(tree), left(tree), add_node(right(tree),x))\n",
    "        \n",
    "def make_binary_search_tree(a):\n",
    "    tree = EmptyTree\n",
    "    for i in range(len(a)):\n",
    "        tree = add_node(tree, a[i])\n",
    "    return tree\n",
    "    \n",
    "t0 = make_leaf(2)\n",
    "t1 = make_node(1, make_leaf(3), make_leaf(5) )\n",
    "t2 = make_node(3, t1, t0)\n",
    "t3 = make_node(2, make_leaf(1),make_leaf(3))\n",
    "add_node(t3,4)\n",
    "t = make_binary_search_tree([3,1,6,1,7,9,2,0,5])\n",
    "inorder(t)"
   ]
  },
  {
   "cell_type": "code",
   "execution_count": 1,
   "metadata": {},
   "outputs": [
    {
     "name": "stdout",
     "output_type": "stream",
     "text": [
      "駒場の理系？\n",
      "yes or no -> yes\n",
      "学際科学科所属？\n",
      "yes or no -> yes\n",
      "この授業は必修？\n",
      "yes or no -> yes\n",
      "Answer: 総合情報学コース\n"
     ]
    }
   ],
   "source": [
    "def make_question_node(question, yesbranch, nobranch):\n",
    "    return [question, yesbranch, nobranch]\n",
    "\n",
    "def question_text(qnode):\n",
    "    return qnode[0]\n",
    "\n",
    "def question_yes(qnode):\n",
    "    return qnode[1]\n",
    "\n",
    "def question_no(qnode):\n",
    "    return qnode[2]\n",
    "\n",
    "Empty = None\n",
    "def make_answer_node(answer):\n",
    "    return make_question_node(answer, Empty, Empty)\n",
    "\n",
    "def answer_text(anode):\n",
    "    return anode[0]\n",
    "\n",
    "def is_question_node(node):\n",
    "    return node[1] != Empty or node[2] != Empty\n",
    "\n",
    "def ansewr(node):\n",
    "    while is_question_node(node):\n",
    "        print(question_text(node))\n",
    "        cin = input(\"yes or no -> \")\n",
    "        if cin == 'yes':\n",
    "            node = question_yes(node)\n",
    "        elif cin == 'no':\n",
    "            node = question_no(node)\n",
    "        else:\n",
    "            print('Error')\n",
    "    print(\"Answer: \" + answer_text(node))\n",
    "\n",
    "\n",
    "a3 = make_answer_node(\"本郷生 or 文系\")\n",
    "a5 = make_answer_node(\"統合自然科学科\")\n",
    "a6 = make_answer_node(\"総合情報学コース\")\n",
    "a7 = make_answer_node(\"広域システムコース\")\n",
    "q1 = \"駒場の理系？\"\n",
    "q2 = \"学際科学科所属？\"\n",
    "q4 = \"この授業は必修？\"\n",
    "n1 = make_question_node(q4,a6,a7)\n",
    "n2 = make_question_node(q2, n1, a5)\n",
    "n = make_question_node(q1, n2, a3)\n",
    "ansewr(n)"
   ]
  },
  {
   "cell_type": "code",
   "execution_count": null,
   "metadata": {},
   "outputs": [],
   "source": []
  }
 ],
 "metadata": {
  "kernelspec": {
   "display_name": "Python 3",
   "language": "python",
   "name": "python3"
  },
  "language_info": {
   "codemirror_mode": {
    "name": "ipython",
    "version": 3
   },
   "file_extension": ".py",
   "mimetype": "text/x-python",
   "name": "python",
   "nbconvert_exporter": "python",
   "pygments_lexer": "ipython3",
   "version": "3.7.3"
  }
 },
 "nbformat": 4,
 "nbformat_minor": 2
}
