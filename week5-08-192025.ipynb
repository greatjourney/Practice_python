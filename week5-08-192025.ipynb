{
 "cells": [
  {
   "cell_type": "markdown",
   "metadata": {},
   "source": [
    "# 第5回課題"
   ]
  },
  {
   "cell_type": "markdown",
   "metadata": {},
   "source": [
    "## 課題1\n",
    "例題の平方根と同様の手順でシグモイド関数の近似解を再帰で求めた。区間[a,b]の中点mを取り、シグモイド関数が単調増加しているため、(sigmoid(m))　> yなら区間[a,m]で再び評価し、(sigmoid(m)) < yなら区間[m,b]で再び評価する。こうして評価する区間が段々と狭まり、差がEpsilonmとなった時のmを返す。"
   ]
  },
  {
   "cell_type": "code",
   "execution_count": 2,
   "metadata": {},
   "outputs": [],
   "source": [
    "import math\n",
    "Epsilon = 0.0001\n",
    "\n",
    "def sigmoid(x):\n",
    "    return 1 / ( 1 + math.exp(-x))\n",
    "\n",
    "def sigmoid_inverse(y,a,b):\n",
    "    m = (a + b) /2\n",
    "    if abs(sigmoid(m) - y) < Epsilon:\n",
    "        return m\n",
    "    elif abs(sigmoid(m)) > y:\n",
    "        return sigmoid_inverse(y,a,m)\n",
    "    else:\n",
    "        return sigmoid_inverse(y,m,b)"
   ]
  },
  {
   "cell_type": "markdown",
   "metadata": {},
   "source": [
    "## 課題2\n",
    "区間[l,r]の中点mを取り、aの要素が昇順であるため、a[m] > xなら区間[l,m]で、a[m] < xなら区間[m,r]で評価する。\n",
    "そうして区間が狭まり、l + 1 = rとなった時にa[l]とxを比べ、一致しているならlを返し、一致しないのならaにxと同じ要素はなかったということなので-1を返す。"
   ]
  },
  {
   "cell_type": "code",
   "execution_count": 3,
   "metadata": {},
   "outputs": [],
   "source": [
    "def binary_search(a, x, l, r):\n",
    "    m = (l +r) //2\n",
    "    if (l +1 == r) and (a[l] == x):\n",
    "        return l\n",
    "    elif (l +1 == r) and (a[l] != x):\n",
    "        return -1\n",
    "    elif (l+1 < r) and (a[m] > x):\n",
    "        return binary_search(a, x, l,m)\n",
    "    else:\n",
    "        return binary_search(a, x, m,r)"
   ]
  },
  {
   "cell_type": "markdown",
   "metadata": {},
   "source": [
    "## 課題3\n",
    "各座標の差　dx = x1 - x0、dy = y1 - y0を用意し、一度コッホ曲線の作業が行われた際に追加される３つの頂点の座標を、dx dy を使って計算した。\n",
    "(x0,y0)に近い方から(xa,ya), (xb,yb), (xc,yc)　である。(xa,ya), (xc,yc)は(x0,y0) と(x1, y1)を結んだ線分Lを３等分した点であるため容易に計算できる。\n",
    "(xb, yb)は線分Lの中点からLと直交する方向、(-dy, dx)にr = √3 / 6 分移動した点である。\n",
    "それらの頂点を返してnを1減らす。これをn = 0まで繰り返せば良い。プロットを見てもコッホ曲線が描けている。n = 2の場合の頂点の座標を\n",
    "http://judge.u-aizu.ac.jp/onlinejudge/description.jsp?id=ALDS1_5_C&lang=jp　にあった座標と比較しても、計算誤差の範囲で一致しており、正しく実装できていると考えられる。"
   ]
  },
  {
   "cell_type": "code",
   "execution_count": 11,
   "metadata": {},
   "outputs": [
    {
     "name": "stdout",
     "output_type": "stream",
     "text": [
      "[[0, 0], [11.111111111111112, 0.0], [16.666666666666668, 9.622504486493764], [22.222222222222225, 0.0], [33.333333333333336, 0.0], [38.88888888888889, 9.622504486493762], [33.33333333333334, 19.245008972987524], [44.44444444444444, 19.245008972987524], [50.0, 28.867513459481287], [55.55555555555556, 19.245008972987527], [66.66666666666667, 19.245008972987527], [61.111111111111114, 9.622504486493764], [66.66666666666667, 0.0], [77.77777777777779, 0.0], [83.33333333333334, 9.62250448649376], [88.88888888888889, 0.0]]\n"
     ]
    },
    {
     "data": {
      "image/png": "[encoded data removed]",
      "text/plain": [
       "<Figure size 432x288 with 1 Axes>"
      ]
     },
     "metadata": {
      "needs_background": "light"
     },
     "output_type": "display_data"
    }
   ],
   "source": [
    "def koch(x0,y0,x1,y1,n):\n",
    "    import math\n",
    "    if n==0:\n",
    "        return [[x0,y0]]\n",
    "    else:\n",
    "        dx = x1 - x0\n",
    "        dy = y1 - y0\n",
    "        r = math.sqrt(3) / 6\n",
    "        xa = x0 + dx / 3\n",
    "        ya = y0 + dy /3\n",
    "        xb = (x0 + dx / 2) - (dy * r)\n",
    "        yb = (y0 + dy / 2) + (dx * r) \n",
    "        xc = x0 + (2 * dx) / 3\n",
    "        yc = y0 + (2 * dy) /3\n",
    "        \n",
    "        return koch(x0,y0,xa,ya, n-1 ) + koch(xa, ya,  xb , yb, n-1) + koch( xb, yb,xc,yc, n-1) + koch(xc,yc,x1,y1 ,n -1) \n",
    "        \n",
    "%matplotlib inline\n",
    "def plot_koch(a):\n",
    "    import matplotlib.pyplot as plt\n",
    "    import numpy as np\n",
    "    fig = plt.figure()\n",
    "    ax = fig.add_subplot(1,1,1)\n",
    "    a_ = np.array(a)\n",
    "    xlist = a_[:, 0]\n",
    "    ylist = a_[:, 1]\n",
    "    \n",
    "    ax.plot(xlist, ylist)\n",
    "    ax.set_title('koch_curve')\n",
    "\n",
    "print(koch(0,0,100,0,2))\n",
    "a = koch(0,0,100,0,5)\n",
    "plot_koch(a)"
   ]
  },
  {
   "cell_type": "markdown",
   "metadata": {},
   "source": [
    "## 課題4\n",
    "first_halfとsecond_halfは、aの要素数で場合分けして記述した。奇数の場合後半の要素が１多いものとすれば、first_halfは、b = [:len(a) // 2]　second_halfははb = [len(a) // 2 :]とすれば良いのでかなり簡潔になる。mergesortでは、 first = mergesort(first_half(a))、second = mergesort(second_half(a))\n",
    "でaの要素数が1になるまで分割を行い、return merge(first, second)でそれらを併合している。"
   ]
  },
  {
   "cell_type": "code",
   "execution_count": 5,
   "metadata": {},
   "outputs": [],
   "source": [
    "def merge(a, b):\n",
    "    c=[]\n",
    "    i,j = 0,0\n",
    "    while i<len(a) and j<len(b):\n",
    "        if a[i] < b[j]: \n",
    "            c.append(a[i])\n",
    "            i+=1 \n",
    "        else:\n",
    "            c.append(b[j])\n",
    "            j+=1\n",
    "    # ループ不変条件: a[0:i]とb[0:j]は昇順にcに詰まっている a[i:] # a[i] 以降の a の要素を全て c に詰める\n",
    "    c += a[i:]\n",
    "    c += b[j:] \n",
    "    return c\n",
    "\n",
    "def first_half(a):\n",
    "    b = []\n",
    "    l = len(a)\n",
    "    p = l // 2\n",
    "    if l % 2 == 0:\n",
    "        for i in range(p):\n",
    "            b.append(a[i])\n",
    "    else:\n",
    "        for i in range(p + 1):\n",
    "            b.append(a[i])\n",
    "    return b\n",
    "\n",
    "def second_half(a):\n",
    "    b = []\n",
    "    l = len(a)\n",
    "    p = l // 2\n",
    "    if l % 2 == 0:\n",
    "        for i in range(p,l):\n",
    "            b.append(a[i])\n",
    "    else:\n",
    "        for i in range(p + 1,l):\n",
    "            b.append(a[i])\n",
    "    return b\n",
    "\n",
    "def mergesort(a):\n",
    "    if len(a) <= 1:\n",
    "        return a\n",
    "    \n",
    "    first = mergesort(first_half(a))\n",
    "    second = mergesort(second_half(a))\n",
    "\n",
    "    return merge(first, second)"
   ]
  },
  {
   "cell_type": "markdown",
   "metadata": {},
   "source": [
    "## テストコード"
   ]
  },
  {
   "cell_type": "code",
   "execution_count": 6,
   "metadata": {},
   "outputs": [
    {
     "name": "stderr",
     "output_type": "stream",
     "text": [
      "...\n",
      "----------------------------------------------------------------------\n",
      "Ran 3 tests in 0.004s\n",
      "\n",
      "OK\n"
     ]
    }
   ],
   "source": [
    "import unittest\n",
    "\n",
    "class TestKadai(unittest.TestCase):\n",
    "    \n",
    "    def test_kadai1(self):\n",
    "        self.assertEqual( -1.38671875, sigmoid_inverse(0.2, -10, 10))\n",
    "        \n",
    "    def test_kadai2(self):\n",
    "        a=[1,3,5,7]\n",
    "        self.assertEqual(1, binary_search(a, 3, 0, len(a)))\n",
    "    \n",
    "#     def test_kadai3(self):\n",
    "#         a = [[0, 0], [11.11111111, 0.0], [16.666666666666668, 9.622504486493762], [22.222222222222225, 0.0], [33.333333333333336, 0.0], [38.88888888888889, 9.622504486493762], [33.33333333333334, 19.245008972987524], [44.44444444444444, 19.245008972987524], [50.0, 28.867513459481287], [55.55555555555556, 19.245008972987527], [66.66666666666667, 19.245008972987527], [61.111111111111114, 9.622504486493764], [66.66666666666667, 0.0], [77.77777777777779, 0.0], [83.33333333333334, 9.622504486493762], [88.88888888888889, 0.0]]\n",
    "#         self.assertEqual([1, 2, 3, 4, 6, 12], factor(12))\n",
    "    \n",
    "    def test_kadai4(self):\n",
    "        self.assertEqual([1, 2,3,4,5,6,7,8,9], mergesort([8,3,4,1,5,9,6,7,2]))\n",
    "    \n",
    "if __name__ == '__main__':\n",
    "    unittest.main(argv=['first-arg-is-ignored'], exit=False)"
   ]
  }
 ],
 "metadata": {
  "kernelspec": {
   "display_name": "Python 3",
   "language": "python",
   "name": "python3"
  },
  "language_info": {
   "codemirror_mode": {
    "name": "ipython",
    "version": 3
   },
   "file_extension": ".py",
   "mimetype": "text/x-python",
   "name": "python",
   "nbconvert_exporter": "python",
   "pygments_lexer": "ipython3",
   "version": "3.7.3"
  }
 },
 "nbformat": 4,
 "nbformat_minor": 2
}
