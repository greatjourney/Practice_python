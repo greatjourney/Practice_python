{
 "cells": [
  {
   "cell_type": "markdown",
   "metadata": {},
   "source": [
    "# 第1回課題"
   ]
  },
  {
   "cell_type": "markdown",
   "metadata": {},
   "source": [
    "## 課題1\n",
    "for文の基本的な内容でできた。金井先生にOKをもらった。"
   ]
  },
  {
   "cell_type": "code",
   "execution_count": 2,
   "metadata": {},
   "outputs": [
    {
     "name": "stdout",
     "output_type": "stream",
     "text": [
      "1 2 3 4 5 6 7 8 9 \n",
      "2 4 6 8 10 12 14 16 18 \n",
      "3 6 9 12 15 18 21 24 27 \n",
      "4 8 12 16 20 24 28 32 36 \n",
      "5 10 15 20 25 30 35 40 45 \n",
      "6 12 18 24 30 36 42 48 54 \n",
      "7 14 21 28 35 42 49 56 63 \n",
      "8 16 24 32 40 48 56 64 72 \n",
      "9 18 27 36 45 54 63 72 81 \n"
     ]
    }
   ],
   "source": [
    "i = 1\n",
    "j = 1\n",
    "for i in range(1,10):\n",
    "    for j in range(1,10):\n",
    "        print(i*j, end=\" \")\n",
    "    print() "
   ]
  },
  {
   "cell_type": "markdown",
   "metadata": {},
   "source": [
    "## 課題2\n",
    "print()そのものに改行の機能があることを知らず、print(\"\\n\")として無駄な改行を入れてしまった。C++とごっちゃになることがある。\n",
    "金井先生にOKをもらった。"
   ]
  },
  {
   "cell_type": "code",
   "execution_count": 4,
   "metadata": {},
   "outputs": [
    {
     "name": "stdout",
     "output_type": "stream",
     "text": [
      "自然数を入力:5\n",
      "* * * * * \n",
      "* * * * \n",
      "* * * \n",
      "* * \n",
      "* \n"
     ]
    }
   ],
   "source": [
    "n = int(input(\"自然数を入力:\"))\n",
    "while n > 0:\n",
    "    i = 1\n",
    "    for i in range(n):\n",
    "        print(\"*\" ,end=\" \")\n",
    "    print()\n",
    "    n -= 1"
   ]
  },
  {
   "cell_type": "markdown",
   "metadata": {},
   "source": [
    "## 課題3\n",
    "何個スペースがあった後に何個＊を出力して、それを何回繰り返せば良いのかということを一般化して、for文を多用して書けた。\n",
    "変数の管理をもっと上手くすればもうちょっと綺麗に書けるかもしれない。\n",
    "ここで実行するとフォントの都合上ずれて綺麗な矢印にならないが、ターミナル上でやると綺麗な対称の形になる。\n",
    "金井先生にOKをもらった。"
   ]
  },
  {
   "cell_type": "code",
   "execution_count": 5,
   "metadata": {},
   "outputs": [
    {
     "name": "stdout",
     "output_type": "stream",
     "text": [
      "自然数を入力:5\n",
      "          *         \n",
      "        * * *         \n",
      "      * * * * *         \n",
      "    * * * * * * *         \n",
      "  * * * * * * * * *         \n",
      "* * * * * * * * * * *         \n",
      "          * \n",
      "          * \n",
      "          * \n",
      "          * \n",
      "          * \n"
     ]
    }
   ],
   "source": [
    "n = int(input(\"自然数を入力:\"))\n",
    "for i in range(n+1):\n",
    "    j = 0\n",
    "    for j in range(n-i):\n",
    "        print(\" \", end=\" \")\n",
    "    for j in range(2 * i + 1):\n",
    "        print(\"*\", end=\" \")\n",
    "    for j in range(n-1):\n",
    "        print(\" \", end=\" \")\n",
    "    print()\n",
    "    i += 1\n",
    "i = 1\n",
    "for i in range(n):\n",
    "    j = 1\n",
    "    for j in range(n):\n",
    "        print(\" \", end=\" \")\n",
    "    print(\"*\", end=\" \")\n",
    "    print()\n",
    "    i += 1"
   ]
  },
  {
   "cell_type": "markdown",
   "metadata": {},
   "source": [
    "## テストコード"
   ]
  },
  {
   "cell_type": "code",
   "execution_count": 3,
   "metadata": {},
   "outputs": [
    {
     "name": "stderr",
     "output_type": "stream",
     "text": [
      "..\n",
      "----------------------------------------------------------------------\n",
      "Ran 2 tests in 0.003s\n",
      "\n",
      "OK\n"
     ]
    }
   ],
   "source": [
    "import unittest\n",
    "\n",
    "class TestKadai(unittest.TestCase):\n",
    "    \n",
    "    def test_kadai1(self):\n",
    "        self.assertEqual(2, kadai1(1))\n",
    "        \n",
    "    def test_kadai2(self):\n",
    "        self.assertEqual(3, kadai2(1,2))\n",
    "\n",
    "if __name__ == '__main__':\n",
    "    unittest.main(argv=['first-arg-is-ignored'], exit=False)"
   ]
  }
 ],
 "metadata": {
  "kernelspec": {
   "display_name": "Python 3",
   "language": "python",
   "name": "python3"
  },
  "language_info": {
   "codemirror_mode": {
    "name": "ipython",
    "version": 3
   },
   "file_extension": ".py",
   "mimetype": "text/x-python",
   "name": "python",
   "nbconvert_exporter": "python",
   "pygments_lexer": "ipython3",
   "version": "3.7.3"
  }
 },
 "nbformat": 4,
 "nbformat_minor": 2
}
