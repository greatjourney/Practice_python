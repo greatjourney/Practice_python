{
 "cells": [
  {
   "cell_type": "code",
   "execution_count": 14,
   "metadata": {},
   "outputs": [
    {
     "name": "stderr",
     "output_type": "stream",
     "text": [
      "..\n",
      "----------------------------------------------------------------------\n",
      "Ran 2 tests in 0.004s\n",
      "\n",
      "OK\n"
     ]
    }
   ],
   "source": [
    "def in_rectangle(w,h,x,y,r):\n",
    "    if (x >= r) and (y >= r) and (w-x >= r) and (h-y >= r):\n",
    "        return True\n",
    "    else:\n",
    "        return False\n",
    "\n",
    "in_rectangle(100,100,1,1,0.5)   \n",
    "\n",
    "\n",
    "import unittest\n",
    "\n",
    "class TestArea(unittest.TestCase): # 定型句\n",
    "    def test_area(self): # 名前を\"test \"で始める \n",
    "        self.assertEqual(in_rectangle(100,100,1,1,0.5),True) \n",
    "        self.assertFalse(in_rectangle(1,1,100,100,0.5),True) \n",
    "        self.assertFalse(in_rectangle(10,10,5,9,3),True) \n",
    "        self.assertFalse(in_rectangle(10,10,9,5,3),True) \n",
    "        self.assertFalse(in_rectangle(10,10,5,1,3),True) \n",
    "        self.assertFalse(in_rectangle(10,10,1,5,3),True) \n",
    "\n",
    "if __name__ == '__main__':\n",
    "    unittest.main(argv=['first-arg-is-ignored'], exit=False)"
   ]
  },
  {
   "cell_type": "code",
   "execution_count": 59,
   "metadata": {},
   "outputs": [
    {
     "data": {
      "text/plain": [
       "38"
      ]
     },
     "execution_count": 59,
     "metadata": {},
     "output_type": "execute_result"
    }
   ],
   "source": [
    "def score(a):\n",
    "    max = min = a[0]\n",
    "    sum = 0\n",
    "    for i in range(len(a)):\n",
    "        if a[i] > max:\n",
    "            max = a[i]\n",
    "        elif a[i] < min:\n",
    "            min = a[i]\n",
    "        sum += a[i]\n",
    "        #この時点でmax,minはa[0]~a[i]までのそれぞれ最大値、最小値でsumはa[0]~a[i]の合計値\n",
    "    return sum - (max + min)\n",
    "\n",
    "score([1,10,4,19,5,20])"
   ]
  },
  {
   "cell_type": "code",
   "execution_count": 62,
   "metadata": {},
   "outputs": [
    {
     "data": {
      "text/plain": [
       "45"
      ]
     },
     "execution_count": 62,
     "metadata": {},
     "output_type": "execute_result"
    }
   ],
   "source": [
    "import math\n",
    "\n",
    "def digit_sum(n):\n",
    "    d = math.floor(math.log10(n))+1\n",
    "    sum = 0\n",
    "    b = n\n",
    "    for i in range(d):\n",
    "        a = b // 10 ** (d-i-1)\n",
    "        sum += a\n",
    "        b -= a * (10 ** (d-i-1))\n",
    "        #この時点においてaはnのd-i桁目(左から1,2,...)の数字。sumはd桁目からd-i桁目までの数字の合計。bはnのd-i桁目から1桁目までの数字を左から並べた整数\n",
    "    return sum\n",
    "\n",
    "digit_sum(123456789)\n",
    "    "
   ]
  },
  {
   "cell_type": "code",
   "execution_count": 63,
   "metadata": {},
   "outputs": [
    {
     "data": {
      "text/plain": [
       "[1, 2, 3, 4, 6, 12]"
      ]
     },
     "execution_count": 63,
     "metadata": {},
     "output_type": "execute_result"
    }
   ],
   "source": [
    "def factor(n):\n",
    "    a = []\n",
    "    for i in range(1,n+1):\n",
    "        if n % i == 0:\n",
    "            a.append(i)\n",
    "    #この時点でaには1~iまでのaの約数が格納されている。\n",
    "    return a\n",
    "\n",
    "factor(12)"
   ]
  },
  {
   "cell_type": "code",
   "execution_count": 49,
   "metadata": {},
   "outputs": [
    {
     "data": {
      "text/plain": [
       "['tanuki', 'kitune']"
      ]
     },
     "execution_count": 49,
     "metadata": {},
     "output_type": "execute_result"
    }
   ],
   "source": [
    "def decrypt2(s):\n",
    "    a = \"\"\n",
    "    b = \"\"\n",
    "    for i in range(len(s)):\n",
    "        if i % 4 == 0 or i % 4 == 1:\n",
    "            a += s[i]\n",
    "        else:\n",
    "            b += s[i]\n",
    "    #\n",
    "    return [a,b]\n",
    "\n",
    "decrypt2(\"takinutukine\")"
   ]
  },
  {
   "cell_type": "code",
   "execution_count": 58,
   "metadata": {},
   "outputs": [
    {
     "data": {
      "text/plain": [
       "'toukyouto'"
      ]
     },
     "execution_count": 58,
     "metadata": {},
     "output_type": "execute_result"
    }
   ],
   "source": [
    "def erase_ta(x):\n",
    "    a = \"\"\n",
    "    for i in range(len(x)):\n",
    "        if x[i:i+2] != \"ta\" and x[i-1:i+1] != \"ta\":\n",
    "            a += x[i]\n",
    "    return a\n",
    "\n",
    "erase_ta(\"tatotauktayotauttao\")"
   ]
  },
  {
   "cell_type": "code",
   "execution_count": null,
   "metadata": {},
   "outputs": [],
   "source": []
  },
  {
   "cell_type": "code",
   "execution_count": null,
   "metadata": {},
   "outputs": [],
   "source": []
  },
  {
   "cell_type": "code",
   "execution_count": null,
   "metadata": {},
   "outputs": [],
   "source": []
  }
 ],
 "metadata": {
  "kernelspec": {
   "display_name": "Python 3",
   "language": "python",
   "name": "python3"
  },
  "language_info": {
   "codemirror_mode": {
    "name": "ipython",
    "version": 3
   },
   "file_extension": ".py",
   "mimetype": "text/x-python",
   "name": "python",
   "nbconvert_exporter": "python",
   "pygments_lexer": "ipython3",
   "version": "3.7.3"
  }
 },
 "nbformat": 4,
 "nbformat_minor": 2
}
