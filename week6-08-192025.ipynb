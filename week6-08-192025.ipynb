{
 "cells": [
  {
   "cell_type": "markdown",
   "metadata": {},
   "source": [
    "# 第6回課題"
   ]
  },
  {
   "cell_type": "markdown",
   "metadata": {},
   "source": [
    "## 課題1\n",
    "max_value()において、最終的な評価は真ん中の頂点から左右に葉が伸びている形まで整理し、その３つの数字の最大値を返せば木の節点の数字の最大値が求められる。treeが葉かどうかを判定する関数is_leafを作り、条件分岐を考える。再帰を繰り返して木の深層に進み、max関数で最大値を求める条件は以下の画像の通りである。これらの状態になった際に葉の数字の最大値を求める。この再帰を繰り返せば、木全体の最大値が求められる。"
   ]
  },
  {
   "cell_type": "markdown",
   "metadata": {},
   "source": [
    "<img src = \"1.jpg\">"
   ]
  },
  {
   "cell_type": "code",
   "execution_count": 31,
   "metadata": {},
   "outputs": [],
   "source": [
    "def make_node(num, left, right): \n",
    "    return [num, left, right]\n",
    "\n",
    "def value(tree): \n",
    "    return tree[0]\n",
    "\n",
    "def left(tree): \n",
    "    return tree[1]\n",
    "\n",
    "def right(tree):\n",
    "    return tree[2]\n",
    "\n",
    "EmptyTree = None\n",
    "def is_empty(tree):\n",
    "    return tree == EmptyTree\n",
    "\n",
    "def make_leaf(num):\n",
    "    return make_node(num, EmptyTree, EmptyTree)\n",
    "\n",
    "def is_leaf(tree):\n",
    "    return is_empty(left(tree))  and is_empty(right(tree)) \n",
    "\n",
    "def max_value(tree):\n",
    "    if is_empty(tree):\n",
    "        return 0\n",
    "    elif is_leaf(tree):\n",
    "        return value(tree)\n",
    "    elif is_leaf(left(tree)) and is_empty(right(tree)):\n",
    "        return max(value(tree), value(left(tree)))\n",
    "    elif is_leaf(right(tree)) and is_empty(left(tree)):\n",
    "        return max(value(tree), value(right(tree)))\n",
    "    elif is_leaf(left(tree)) and is_leaf(right(tree)):\n",
    "        return max(value(tree), value(left(tree)), value(right(tree)))\n",
    "    else:\n",
    "        return max_value(make_node(value(tree), make_leaf(max_value(left(tree))), make_leaf(max_value(right(tree)))))"
   ]
  },
  {
   "cell_type": "markdown",
   "metadata": {},
   "source": [
    "## 課題2\n",
    "inorderの順に並べた配列をI(t)とすると、次のように定義される。\n",
    "I (t) = [] (t is empty)\n",
    "I (t) = I (left(t)) +  [value(t)] + I (right(t)) (t is not empty)\n",
    "そのような再帰になるようにinorder()を定義した。"
   ]
  },
  {
   "cell_type": "code",
   "execution_count": 2,
   "metadata": {},
   "outputs": [
    {
     "data": {
      "text/plain": [
       "[3, 1, 5, 3, 2]"
      ]
     },
     "execution_count": 2,
     "metadata": {},
     "output_type": "execute_result"
    }
   ],
   "source": [
    "def inorder(tree):\n",
    "    if is_empty(tree):\n",
    "        return []\n",
    "    else:\n",
    "        return inorder(left(tree)) + [value(tree)] +  inorder(right(tree))\n",
    "    \n"
   ]
  },
  {
   "cell_type": "markdown",
   "metadata": {},
   "source": [
    "## 課題3\n",
    "二分探索木に要素を追加するadd_node()を定義し、 make_binary_search_tree(a)ではまずEmptytreeを用意し、aの要素を順番にadd_node()で追加していった。これ以外の手法として、まず配列を降順に並び替えてから、a[0]を頂点とする木を作り、a[1]~ の数字を節点に持つように順番に左に枝を伸ばして行けば二分探索木が作れる。"
   ]
  },
  {
   "cell_type": "code",
   "execution_count": 5,
   "metadata": {},
   "outputs": [],
   "source": [
    "def add_node(tree, x):\n",
    "    if is_empty(tree):\n",
    "        return make_leaf(x)\n",
    "    elif x < value(tree):\n",
    "        return make_node(value(tree), add_node(left(tree),x), right(tree))\n",
    "    else:\n",
    "        return make_node(value(tree), left(tree), add_node(right(tree),x))\n",
    "        \n",
    "def make_binary_search_tree(a):\n",
    "    tree = EmptyTree\n",
    "    for i in range(len(a)):\n",
    "        tree = add_node(tree, a[i])\n",
    "    return tree"
   ]
  },
  {
   "cell_type": "markdown",
   "metadata": {},
   "source": [
    "## 課題4\n",
    "二分木と同じように、決定木を作るmake_question_node関数、各要素を返すquestion_text, question_yes, question_no関数を定義した。二分木の葉に当たる答えを作成するmake_answer_node関数、答えのテキストを返すanswer_text関数を定義した。質問中かどうかを判断する is_question_nodeを定義した。\n",
    "answer()関数では、 is_question_node()で質問中かどうかを判定し、while()を使って、その間は質問文を表示してその答えをinput()で得てyesかnoに応じて分岐先に飛ぶ事を繰り返す。そうして答えにたどり着いたらanswer_text関数で答えを表示する。"
   ]
  },
  {
   "cell_type": "code",
   "execution_count": 21,
   "metadata": {},
   "outputs": [
    {
     "name": "stdout",
     "output_type": "stream",
     "text": [
      "駒場の理系？\n",
      "yes or no -> yes\n",
      "学際科学科所属？\n",
      "yes or no -> yes\n",
      "この授業は必修？\n",
      "yes or no -> yes\n",
      "Answer: 総合情報学コース\n"
     ]
    }
   ],
   "source": [
    "def make_question_node(question, yesbranch, nobranch):\n",
    "    return [question, yesbranch, nobranch]\n",
    "\n",
    "def question_text(qnode):\n",
    "    return qnode[0]\n",
    "\n",
    "def question_yes(qnode):\n",
    "    return qnode[1]\n",
    "\n",
    "def question_no(qnode):\n",
    "    return qnode[2]\n",
    "\n",
    "Empty = None\n",
    "def make_answer_node(answer):\n",
    "    return make_question_node(answer, Empty, Empty)\n",
    "\n",
    "def answer_text(anode):\n",
    "    return anode[0]\n",
    "\n",
    "def is_question_node(node):\n",
    "    return node[1] != Empty or node[2] != Empty\n",
    "\n",
    "def ansewr(node):\n",
    "    while is_question_node(node):\n",
    "        print(question_text(node))\n",
    "        cin = input(\"yes or no -> \")\n",
    "        if cin == 'yes':\n",
    "            node = question_yes(node)\n",
    "        elif cin == 'no':\n",
    "            node = question_no(node)\n",
    "        else:\n",
    "            print('Error')\n",
    "    print(\"Answer: \" + answer_text(node))\n",
    "\n",
    "\n",
    "a3 = make_answer_node(\"本郷生 or 文系\")\n",
    "a5 = make_answer_node(\"統合自然科学科\")\n",
    "a6 = make_answer_node(\"総合情報学コース\")\n",
    "a7 = make_answer_node(\"広域システムコース\")\n",
    "q1 = \"駒場の理系？\"\n",
    "q2 = \"学際科学科所属？\"\n",
    "q4 = \"この授業は必修？\"\n",
    "n1 = make_question_node(q4,a6,a7)\n",
    "n2 = make_question_node(q2, n1, a5)\n",
    "n = make_question_node(q1, n2, a3)\n",
    "ansewr(n)"
   ]
  },
  {
   "cell_type": "markdown",
   "metadata": {},
   "source": [
    "## 課題5\n",
    "四則演算を表す文字を要素に持つ内部接点と、２つの数字の葉を持つ木が与えられた時にその四則演算の結果を返すcalc1(tree)を定義した。\n",
    "calc(tree)では左の枝と右の枝にわけて計算する。 l = calc(left(tree)),r = calc(right(tree))として再帰を繰り返し、treeが葉になればvalue(tree)を返し、もしくは左右両方に葉を持てばcalc1(tree)で計算結果を返す。そうして左右の枝の計算結果の数字を葉にもつ木をmake_nodeで作り、その計算結果を返せば木全体の計算結果が求められる。"
   ]
  },
  {
   "cell_type": "code",
   "execution_count": 16,
   "metadata": {},
   "outputs": [],
   "source": [
    "def calc1(tree):\n",
    "    v = value(tree)\n",
    "    l = value(left(tree))\n",
    "    r = value(right(tree))\n",
    "    if v == '+':\n",
    "        return l + r\n",
    "    elif v == '-':\n",
    "        return l - r\n",
    "    elif v == '*':\n",
    "        return l * r\n",
    "    elif v == '/':\n",
    "        return l / r\n",
    "    else:\n",
    "        return v\n",
    "\n",
    "def calc(tree):\n",
    "    if is_empty(tree):\n",
    "        return 0\n",
    "    elif is_leaf(tree):\n",
    "        return value(tree)\n",
    "    elif is_leaf(left(tree)) and is_leaf(right(tree)):\n",
    "        return calc1(tree)\n",
    "    else:\n",
    "        l = calc(left(tree))\n",
    "        r = calc(right(tree))\n",
    "        tree = make_node(value(tree),make_leaf(l),make_leaf(r))\n",
    "        return calc(tree)\n"
   ]
  },
  {
   "cell_type": "markdown",
   "metadata": {},
   "source": [
    " ## 課題6\n",
    " Nodeクラスを定義して、それに応じてmake_node, left、rightを定義し直した。calc()はNodeを対象に正しく動作している。"
   ]
  },
  {
   "cell_type": "code",
   "execution_count": 29,
   "metadata": {},
   "outputs": [
    {
     "name": "stdout",
     "output_type": "stream",
     "text": [
      "17\n"
     ]
    }
   ],
   "source": [
    "class Node:\n",
    "    def __init__(self, num, left, right):\n",
    "        self.value = num\n",
    "        (self.left , self.right) = (left, right)\n",
    "\n",
    "\n",
    "def make_node(num, left, right): \n",
    "    return Node(num, left, right) \n",
    "\n",
    "def value(tree):\n",
    "    return tree.value\n",
    "\n",
    "def left(tree):\n",
    "    return tree.left\n",
    "    \n",
    "def right(tree):\n",
    "    return tree.right\n",
    "\n",
    "\n",
    "t = make_node(\"+\", make_node(\"*\", make_leaf(3), make_leaf(5)), make_leaf(2))\n",
    "print(calc(t))"
   ]
  },
  {
   "cell_type": "markdown",
   "metadata": {},
   "source": [
    "## テストコード"
   ]
  },
  {
   "cell_type": "code",
   "execution_count": 32,
   "metadata": {},
   "outputs": [
    {
     "name": "stderr",
     "output_type": "stream",
     "text": [
      "...........\n",
      "----------------------------------------------------------------------\n",
      "Ran 11 tests in 0.008s\n",
      "\n",
      "OK\n"
     ]
    }
   ],
   "source": [
    "import unittest\n",
    "\n",
    "class TestKadai(unittest.TestCase):\n",
    "    \n",
    "    t0 = make_leaf(2)\n",
    "    t1 = make_node(1, make_leaf(3), make_leaf(5) )\n",
    "    t2 = make_node(3, t1, t0)\n",
    "    \n",
    "    def test_kadai1(self):\n",
    "        self.assertEqual(5, max_value(t2))\n",
    "        \n",
    "    def test_kadai2(self):\n",
    "        self.assertEqual([3, 1, 5, 3, 2], inorder(t2))\n",
    "    \n",
    "    def test_kadai3(self):\n",
    "        t = make_binary_search_tree([3,1,6,1,7,9,2,0,5])\n",
    "        self.assertEqual([0, 1, 1, 2, 3, 5, 6, 7, 9], inorder(t))\n",
    "    \n",
    "    Empty = None\n",
    "    q = \"この授業は必修？\"\n",
    "    a1 = [\"総合情報学コース\", Empty, Empty]\n",
    "    a2 = [\"広域システムコース\", Empty, Empty]\n",
    "    qnode = make_question_node(q, a1, a2)\n",
    "    def test_kadai4(self):\n",
    "        self.assertEqual(['この授業は必修？', ['総合情報学コース', None, None], ['広域システムコース', None, None]], qnode)\n",
    "    \n",
    "    def test_kadai5(self):\n",
    "        q = \"この授業は必修？\"\n",
    "        self.assertEqual(q , question_text(qnode))\n",
    "    \n",
    "    def test_kadai6(self):\n",
    "        self.assertEqual(a1, question_yes(qnode))\n",
    "        \n",
    "    def test_kadai7(self):\n",
    "        self.assertEqual(a2, question_no(qnode))\n",
    "\n",
    "    def test_kadai8(self):\n",
    "        self.assertEqual([\"総合情報学コース\",None,None], make_answer_node(\"総合情報学コース\"))\n",
    "    \n",
    "    def test_kadai9(self):\n",
    "        self.assertEqual(True, is_question_node(qnode))\n",
    "        \n",
    "    def test_kadai10(self):\n",
    "        t1 = make_node(\"+\",make_leaf(3),make_leaf(5))\n",
    "        t2 = make_node(\"-\",make_leaf(3),make_leaf(5))\n",
    "        t3 = make_node(\"*\",make_leaf(3),make_leaf(5))\n",
    "        t4 = make_node(\"/\",make_leaf(3),make_leaf(5))\n",
    "        self.assertEqual(8, calc1(t1))\n",
    "        self.assertEqual(-2, calc1(t2))\n",
    "        self.assertEqual(15, calc1(t3))\n",
    "        self.assertEqual(0.6, calc1(t4))\n",
    "        \n",
    "    def test_kadai11(self):\n",
    "        t = make_node(\"+\", make_node(\"*\", make_leaf(3), make_leaf(5)), make_leaf(2))\n",
    "        self.assertEqual(17, calc(t))\n",
    "\n",
    "if __name__ == '__main__':\n",
    "    unittest.main(argv=['first-arg-is-ignored'], exit=False)"
   ]
  }
 ],
 "metadata": {
  "kernelspec": {
   "display_name": "Python 3",
   "language": "python",
   "name": "python3"
  },
  "language_info": {
   "codemirror_mode": {
    "name": "ipython",
    "version": 3
   },
   "file_extension": ".py",
   "mimetype": "text/x-python",
   "name": "python",
   "nbconvert_exporter": "python",
   "pygments_lexer": "ipython3",
   "version": "3.7.3"
  }
 },
 "nbformat": 4,
 "nbformat_minor": 2
}
